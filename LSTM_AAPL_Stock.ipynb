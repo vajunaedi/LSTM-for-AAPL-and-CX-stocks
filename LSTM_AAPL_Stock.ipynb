{
 "cells": [
  {
   "cell_type": "markdown",
   "metadata": {},
   "source": [
    "# UROP 1100 - Victoria A. Junaedi\n",
    "Code from https://github.com/BenjiKCF/Neural-Network-with-Financial-Time-Series-Data"
   ]
  },
  {
   "cell_type": "code",
   "execution_count": 5,
   "metadata": {
    "collapsed": true
   },
   "outputs": [],
   "source": [
    "import numpy as np\n",
    "import matplotlib.pyplot as plt\n",
    "import matplotlib.pyplot as plt2\n",
    "import pandas as pd\n",
    "from pandas import datetime\n",
    "import math, time\n",
    "from sklearn import preprocessing\n",
    "import datetime\n",
    "from sklearn.metrics import mean_squared_error\n",
    "from math import sqrt\n",
    "from keras.models import Sequential\n",
    "from keras.layers.core import Dense, Dropout, Activation\n",
    "from keras.layers.recurrent import LSTM\n",
    "from keras.models import load_model\n",
    "import keras\n",
    "import pandas_datareader.data as web\n",
    "import h5py\n",
    "from keras import backend as K\n",
    "import quandl"
   ]
  },
  {
   "cell_type": "markdown",
   "metadata": {},
   "source": [
    "#  Getting the data from Quandl\n",
    "and determining other parameters"
   ]
  },
  {
   "cell_type": "code",
   "execution_count": 6,
   "metadata": {
    "collapsed": true
   },
   "outputs": [],
   "source": [
    "quandl.ApiConfig.api_key = 'ETPyWitxJn3wiSRvxUjk'\n",
    "seq_len = 22\n",
    "shape = [seq_len, 9, 1]\n",
    "neurons = [256, 256, 32, 1]\n",
    "dropout = 0.3\n",
    "decay = 0.5\n",
    "epochs = 90\n",
    "stock_name = 'AAPL'"
   ]
  },
  {
   "cell_type": "markdown",
   "metadata": {},
   "source": [
    "# Pulling the data from Quandl"
   ]
  },
  {
   "cell_type": "code",
   "execution_count": 7,
   "metadata": {
    "collapsed": true
   },
   "outputs": [],
   "source": [
    "def get_stock_data(stock_name, normalize=True, ma=[]):\n",
    "    \"\"\"\n",
    "    Return a dataframe of that stock and normalize all the values. \n",
    "    (Optional: create moving average)\n",
    "    \"\"\"\n",
    "    df = quandl.get_table('WIKI/PRICES', ticker = stock_name)\n",
    "    df.drop(['ticker', 'open', 'high', 'low', 'close', 'ex-dividend', 'volume', 'split_ratio'], 1, inplace=True)\n",
    "    df.set_index('date', inplace=True)\n",
    "    \n",
    "    # Renaming all the columns so that we can use the old version code\n",
    "    df.rename(columns={'adj_open': 'Open', 'adj_high': 'High', 'adj_low': 'Low', 'adj_volume': 'Volume', 'adj_close': 'Adj Close'}, inplace=True)\n",
    "    \n",
    "    # Percentage change\n",
    "    df['Pct'] = df['Adj Close'].pct_change()\n",
    "    df.dropna(inplace=True)\n",
    "    \n",
    "    # Moving Average    \n",
    "    if ma != []:\n",
    "        for moving in ma:\n",
    "            df['{}ma'.format(moving)] = df['Adj Close'].rolling(window=moving).mean()\n",
    "    df.dropna(inplace=True)\n",
    "    \n",
    "    if normalize:\n",
    "        min_max_scaler = preprocessing.MinMaxScaler()\n",
    "        df['Open'] = min_max_scaler.fit_transform(df.Open.values.reshape(-1,1))\n",
    "        df['High'] = min_max_scaler.fit_transform(df.High.values.reshape(-1,1))\n",
    "        df['Low'] = min_max_scaler.fit_transform(df.Low.values.reshape(-1,1))\n",
    "        df['Volume'] = min_max_scaler.fit_transform(df.Volume.values.reshape(-1,1))\n",
    "        df['Adj Close'] = min_max_scaler.fit_transform(df['Adj Close'].values.reshape(-1,1))\n",
    "        df['Pct'] = min_max_scaler.fit_transform(df['Pct'].values.reshape(-1,1))\n",
    "        if ma != []:\n",
    "            for moving in ma:\n",
    "                df['{}ma'.format(moving)] = min_max_scaler.fit_transform(df['{}ma'.format(moving)].values.reshape(-1,1))  \n",
    "                \n",
    "    # Move Adj Close to the rightmost for the ease of training\n",
    "    adj_close = df['Adj Close']\n",
    "    df.drop(labels=['Adj Close'], axis=1, inplace=True)\n",
    "    df = pd.concat([df, adj_close], axis=1)\n",
    "      \n",
    "    return df"
   ]
  },
  {
   "cell_type": "code",
   "execution_count": 8,
   "metadata": {
    "collapsed": true
   },
   "outputs": [],
   "source": [
    "df = get_stock_data(stock_name, ma=[50, 100, 200]) # putting 50 days, 100 days, and 200 days moving average"
   ]
  },
  {
   "cell_type": "markdown",
   "metadata": {},
   "source": [
    "# Visualizing the data"
   ]
  },
  {
   "cell_type": "code",
   "execution_count": 9,
   "metadata": {
    "collapsed": true
   },
   "outputs": [],
   "source": [
    "def plot_stock(df):\n",
    "    print(df.head())\n",
    "    plt.subplot(211)\n",
    "    plt.plot(df['Adj Close'], color='red', label='Adj Close')\n",
    "    plt.legend(loc='best')\n",
    "    plt.subplot(212)\n",
    "    plt.plot(df['Pct'], color='blue', label='Percentage change')\n",
    "    plt.legend(loc='best')\n",
    "    plt.show()"
   ]
  },
  {
   "cell_type": "code",
   "execution_count": 10,
   "metadata": {},
   "outputs": [
    {
     "name": "stdout",
     "output_type": "stream",
     "text": [
      "                Open      High       Low    Volume       Pct      50ma  \\\n",
      "date                                                                     \n",
      "1981-09-30  0.000383  0.000393  0.000402  0.006603  0.618942  0.000777   \n",
      "1981-10-01  0.000383  0.000393  0.000402  0.008103  0.609620  0.000759   \n",
      "1981-10-02  0.000499  0.000510  0.000520  0.005935  0.705957  0.000747   \n",
      "1981-10-05  0.000546  0.000567  0.000568  0.005673  0.645236  0.000735   \n",
      "1981-10-06  0.000546  0.000544  0.000556  0.003687  0.601324  0.000721   \n",
      "\n",
      "               100ma     200ma  Adj Close  \n",
      "date                                       \n",
      "1981-09-30  0.001069  0.001108   0.000400  \n",
      "1981-10-01  0.001056  0.001102   0.000400  \n",
      "1981-10-02  0.001045  0.001097   0.000517  \n",
      "1981-10-05  0.001035  0.001092   0.000564  \n",
      "1981-10-06  0.001024  0.001086   0.000553  \n"
     ]
    },
    {
     "data": {
      "image/png": "[encoded data removed]",
      "text/plain": [
       "<matplotlib.figure.Figure at 0x4459a0d668>"
      ]
     },
     "metadata": {},
     "output_type": "display_data"
    }
   ],
   "source": [
    "plot_stock(df)"
   ]
  },
  {
   "cell_type": "markdown",
   "metadata": {},
   "source": [
    "# Split training and testing"
   ]
  },
  {
   "cell_type": "code",
   "execution_count": 14,
   "metadata": {
    "collapsed": true
   },
   "outputs": [],
   "source": [
    "def load_data(stock, seq_len):\n",
    "    amount_of_features = len(stock.columns)\n",
    "    print (\"Amount of features = {}\".format(amount_of_features))\n",
    "    data = stock.as_matrix()\n",
    "    sequence_length = seq_len + 1 # index starting from 0\n",
    "    result = []\n",
    "\n",
    "    for index in range(len(data) - sequence_length): # maxmimum date = lastest date - sequence length\n",
    "        result.append(data[index: index + sequence_length]) # index : index + 22days\n",
    "\n",
    "    result = np.array(result)\n",
    "    row = round(0.8 * result.shape[0]) # 80% split\n",
    "    print (\"Amount of training data = {}\".format(round(0.9 * result.shape[0])))\n",
    "    print (\"Amount of testing data = {}\".format(round(0.1 * result.shape[0])))\n",
    "\n",
    "    train = result[:int(row), :] # 90% date\n",
    "    X_train = train[:, :-1] # all data until day m\n",
    "    y_train = train[:, -1][:,-1] # day m + 1 adjusted close price\n",
    "\n",
    "    X_test = result[int(row):, :-1]\n",
    "    y_test = result[int(row):, -1][:,-1]\n",
    "\n",
    "    X_train = np.reshape(X_train, (X_train.shape[0], X_train.shape[1], amount_of_features))\n",
    "    X_test = np.reshape(X_test, (X_test.shape[0], X_test.shape[1], amount_of_features))\n",
    "\n",
    "    return [X_train, y_train, X_test, y_test]"
   ]
  },
  {
   "cell_type": "code",
   "execution_count": 15,
   "metadata": {},
   "outputs": [
    {
     "name": "stdout",
     "output_type": "stream",
     "text": [
      "Amount of features = 9\n",
      "Amount of training data = 8116\n",
      "Amount of testing data = 902\n"
     ]
    }
   ],
   "source": [
    "X_train, y_train, X_test, y_test = load_data(df, seq_len)"
   ]
  },
  {
   "cell_type": "code",
   "execution_count": 16,
   "metadata": {
    "collapsed": true
   },
   "outputs": [],
   "source": [
    "def build_model(shape, neurons, dropout, decay):\n",
    "    model = Sequential()\n",
    "\n",
    "    model.add(LSTM(neurons[0], input_shape=(shape[0], shape[1]), return_sequences=True))\n",
    "    model.add(Dropout(dropout))\n",
    "\n",
    "    model.add(LSTM(neurons[1], input_shape=(shape[0], shape[1]), return_sequences=False))\n",
    "    model.add(Dropout(dropout))\n",
    "\n",
    "    model.add(Dense(neurons[2],kernel_initializer=\"uniform\",activation='relu'))\n",
    "    model.add(Dense(neurons[3],kernel_initializer=\"uniform\",activation='linear'))\n",
    "    # model = load_model('my_LSTM_stock_model1000.h5')\n",
    "    adam = keras.optimizers.Adam(decay=decay)\n",
    "    model.compile(loss='mse',optimizer='adam', metrics=['accuracy'])\n",
    "    model.summary()\n",
    "    return model"
   ]
  },
  {
   "cell_type": "code",
   "execution_count": 19,
   "metadata": {},
   "outputs": [
    {
     "name": "stdout",
     "output_type": "stream",
     "text": [
      "_________________________________________________________________\n",
      "Layer (type)                 Output Shape              Param #   \n",
      "=================================================================\n",
      "lstm_9 (LSTM)                (None, 22, 256)           272384    \n",
      "_________________________________________________________________\n",
      "dropout_9 (Dropout)          (None, 22, 256)           0         \n",
      "_________________________________________________________________\n",
      "lstm_10 (LSTM)               (None, 256)               525312    \n",
      "_________________________________________________________________\n",
      "dropout_10 (Dropout)         (None, 256)               0         \n",
      "_________________________________________________________________\n",
      "dense_9 (Dense)              (None, 32)                8224      \n",
      "_________________________________________________________________\n",
      "dense_10 (Dense)             (None, 1)                 33        \n",
      "=================================================================\n",
      "Total params: 805,953\n",
      "Trainable params: 805,953\n",
      "Non-trainable params: 0\n",
      "_________________________________________________________________\n"
     ]
    }
   ],
   "source": [
    "model = build_model(shape, neurons, dropout, decay)"
   ]
  },
  {
   "cell_type": "code",
   "execution_count": 28,
   "metadata": {
    "scrolled": true
   },
   "outputs": [
    {
     "name": "stdout",
     "output_type": "stream",
     "text": [
      "Train on 4833 samples, validate on 2381 samples\n",
      "Epoch 1/90\n",
      "4833/4833 [==============================] - 221s - loss: 1.7195e-06 - acc: 2.0691e-04 - val_loss: 4.2531e-04 - val_acc: 0.0000e+00\n",
      "Epoch 2/90\n",
      "4833/4833 [==============================] - 65s - loss: 1.4646e-06 - acc: 2.0691e-04 - val_loss: 4.4214e-04 - val_acc: 0.0000e+00\n",
      "Epoch 3/90\n",
      "4833/4833 [==============================] - 45s - loss: 1.3664e-06 - acc: 2.0691e-04 - val_loss: 4.0085e-04 - val_acc: 0.0000e+00\n",
      "Epoch 4/90\n",
      "4833/4833 [==============================] - 34s - loss: 1.3177e-06 - acc: 2.0691e-04 - val_loss: 4.0098e-04 - val_acc: 0.0000e+00\n",
      "Epoch 5/90\n",
      "4833/4833 [==============================] - 42s - loss: 1.3640e-06 - acc: 2.0691e-04 - val_loss: 4.5309e-04 - val_acc: 0.0000e+00\n",
      "Epoch 6/90\n",
      "4833/4833 [==============================] - 39s - loss: 1.6622e-06 - acc: 2.0691e-04 - val_loss: 2.5077e-04 - val_acc: 0.0000e+00\n",
      "Epoch 7/90\n",
      "4833/4833 [==============================] - 43s - loss: 1.8572e-06 - acc: 2.0691e-04 - val_loss: 3.6609e-04 - val_acc: 0.0000e+00\n",
      "Epoch 8/90\n",
      "4833/4833 [==============================] - 45s - loss: 1.8261e-06 - acc: 2.0691e-04 - val_loss: 4.5479e-04 - val_acc: 0.0000e+00\n",
      "Epoch 9/90\n",
      "4833/4833 [==============================] - 37s - loss: 1.3888e-06 - acc: 2.0691e-04 - val_loss: 3.1536e-04 - val_acc: 0.0000e+00\n",
      "Epoch 10/90\n",
      "4833/4833 [==============================] - 47s - loss: 1.2771e-06 - acc: 2.0691e-04 - val_loss: 2.4979e-04 - val_acc: 0.0000e+00\n",
      "Epoch 11/90\n",
      "4833/4833 [==============================] - 38s - loss: 1.1827e-06 - acc: 2.0691e-04 - val_loss: 3.6913e-04 - val_acc: 0.0000e+00\n",
      "Epoch 12/90\n",
      "4833/4833 [==============================] - 37s - loss: 1.0687e-06 - acc: 2.0691e-04 - val_loss: 3.2223e-04 - val_acc: 0.0000e+00\n",
      "Epoch 13/90\n",
      "4833/4833 [==============================] - 36s - loss: 1.0119e-06 - acc: 2.0691e-04 - val_loss: 2.5512e-04 - val_acc: 0.0000e+00\n",
      "Epoch 14/90\n",
      "4833/4833 [==============================] - 37s - loss: 8.2117e-07 - acc: 2.0691e-04 - val_loss: 2.6841e-04 - val_acc: 0.0000e+00\n",
      "Epoch 15/90\n",
      "4833/4833 [==============================] - 40s - loss: 7.2154e-07 - acc: 2.0691e-04 - val_loss: 3.1219e-04 - val_acc: 0.0000e+00\n",
      "Epoch 16/90\n",
      "4833/4833 [==============================] - 40s - loss: 7.2395e-07 - acc: 2.0691e-04 - val_loss: 2.8376e-04 - val_acc: 0.0000e+00\n",
      "Epoch 17/90\n",
      "4833/4833 [==============================] - 42s - loss: 6.8469e-07 - acc: 2.0691e-04 - val_loss: 2.3482e-04 - val_acc: 0.0000e+00\n",
      "Epoch 18/90\n",
      "4833/4833 [==============================] - 41s - loss: 8.3233e-07 - acc: 2.0691e-04 - val_loss: 1.9336e-04 - val_acc: 0.0000e+00\n",
      "Epoch 19/90\n",
      "4833/4833 [==============================] - 41s - loss: 6.0132e-07 - acc: 2.0691e-04 - val_loss: 2.4358e-04 - val_acc: 0.0000e+00\n",
      "Epoch 20/90\n",
      "4833/4833 [==============================] - 41s - loss: 7.1656e-07 - acc: 2.0691e-04 - val_loss: 2.4052e-04 - val_acc: 0.0000e+00\n",
      "Epoch 21/90\n",
      "4833/4833 [==============================] - 39s - loss: 1.0257e-06 - acc: 2.0691e-04 - val_loss: 2.3605e-04 - val_acc: 0.0000e+00\n",
      "Epoch 22/90\n",
      "4833/4833 [==============================] - 36s - loss: 8.7391e-07 - acc: 2.0691e-04 - val_loss: 2.5499e-04 - val_acc: 0.0000e+00\n",
      "Epoch 23/90\n",
      "4833/4833 [==============================] - 35s - loss: 7.8047e-07 - acc: 2.0691e-04 - val_loss: 2.6420e-04 - val_acc: 0.0000e+00\n",
      "Epoch 24/90\n",
      "4833/4833 [==============================] - 35s - loss: 5.4148e-07 - acc: 2.0691e-04 - val_loss: 2.9840e-04 - val_acc: 0.0000e+00\n",
      "Epoch 25/90\n",
      "4833/4833 [==============================] - 35s - loss: 5.4237e-07 - acc: 2.0691e-04 - val_loss: 2.8673e-04 - val_acc: 0.0000e+00\n",
      "Epoch 26/90\n",
      "4833/4833 [==============================] - 35s - loss: 5.2786e-07 - acc: 2.0691e-04 - val_loss: 2.4697e-04 - val_acc: 0.0000e+00\n",
      "Epoch 27/90\n",
      "4833/4833 [==============================] - 34s - loss: 5.0900e-07 - acc: 2.0691e-04 - val_loss: 2.5343e-04 - val_acc: 0.0000e+00\n",
      "Epoch 28/90\n",
      "4833/4833 [==============================] - 36s - loss: 4.8195e-07 - acc: 2.0691e-04 - val_loss: 2.0133e-04 - val_acc: 0.0000e+00\n",
      "Epoch 29/90\n",
      "4833/4833 [==============================] - 38s - loss: 5.3146e-07 - acc: 2.0691e-04 - val_loss: 2.2562e-04 - val_acc: 0.0000e+00\n",
      "Epoch 30/90\n",
      "4833/4833 [==============================] - 34s - loss: 6.2262e-07 - acc: 2.0691e-04 - val_loss: 2.3375e-04 - val_acc: 0.0000e+00\n",
      "Epoch 31/90\n",
      "4833/4833 [==============================] - 35s - loss: 5.0675e-07 - acc: 2.0691e-04 - val_loss: 3.1560e-04 - val_acc: 0.0000e+00\n",
      "Epoch 32/90\n",
      "4833/4833 [==============================] - 39s - loss: 4.8491e-07 - acc: 2.0691e-04 - val_loss: 3.5945e-04 - val_acc: 0.0000e+00\n",
      "Epoch 33/90\n",
      "4833/4833 [==============================] - 34s - loss: 4.9161e-07 - acc: 2.0691e-04 - val_loss: 3.3237e-04 - val_acc: 0.0000e+00\n",
      "Epoch 34/90\n",
      "4833/4833 [==============================] - 34s - loss: 4.4665e-07 - acc: 2.0691e-04 - val_loss: 3.8902e-04 - val_acc: 0.0000e+00\n",
      "Epoch 35/90\n",
      "4833/4833 [==============================] - 36s - loss: 6.4177e-07 - acc: 2.0691e-04 - val_loss: 2.6007e-04 - val_acc: 0.0000e+00\n",
      "Epoch 36/90\n",
      "4833/4833 [==============================] - 39s - loss: 5.3864e-07 - acc: 2.0691e-04 - val_loss: 2.5800e-04 - val_acc: 0.0000e+00\n",
      "Epoch 37/90\n",
      "4833/4833 [==============================] - 35s - loss: 4.7891e-07 - acc: 2.0691e-04 - val_loss: 2.4562e-04 - val_acc: 0.0000e+00\n",
      "Epoch 38/90\n",
      "4833/4833 [==============================] - 35s - loss: 5.6334e-07 - acc: 2.0691e-04 - val_loss: 1.4747e-04 - val_acc: 0.0000e+00\n",
      "Epoch 39/90\n",
      "4833/4833 [==============================] - 35s - loss: 4.4667e-07 - acc: 2.0691e-04 - val_loss: 1.0808e-04 - val_acc: 0.0000e+00\n",
      "Epoch 40/90\n",
      "4833/4833 [==============================] - 37s - loss: 5.0059e-07 - acc: 2.0691e-04 - val_loss: 1.8634e-04 - val_acc: 0.0000e+00\n",
      "Epoch 41/90\n",
      "4833/4833 [==============================] - 35s - loss: 4.5791e-07 - acc: 2.0691e-04 - val_loss: 2.4432e-04 - val_acc: 0.0000e+00\n",
      "Epoch 42/90\n",
      "4833/4833 [==============================] - 37s - loss: 6.4789e-07 - acc: 2.0691e-04 - val_loss: 1.6141e-04 - val_acc: 0.0000e+00\n",
      "Epoch 43/90\n",
      "4833/4833 [==============================] - 35s - loss: 7.9801e-07 - acc: 2.0691e-04 - val_loss: 1.4257e-04 - val_acc: 0.0000e+00\n",
      "Epoch 44/90\n",
      "4833/4833 [==============================] - 34s - loss: 5.3803e-07 - acc: 2.0691e-04 - val_loss: 1.5780e-04 - val_acc: 0.0000e+00\n",
      "Epoch 45/90\n",
      "4833/4833 [==============================] - 34s - loss: 4.5717e-07 - acc: 2.0691e-04 - val_loss: 1.8656e-04 - val_acc: 0.0000e+00\n",
      "Epoch 46/90\n",
      "4833/4833 [==============================] - 34s - loss: 3.9357e-07 - acc: 2.0691e-04 - val_loss: 3.0846e-04 - val_acc: 0.0000e+00\n",
      "Epoch 47/90\n",
      "4833/4833 [==============================] - 35s - loss: 4.3601e-07 - acc: 2.0691e-04 - val_loss: 2.5915e-04 - val_acc: 0.0000e+00\n",
      "Epoch 48/90\n",
      "4833/4833 [==============================] - 37s - loss: 3.9998e-07 - acc: 2.0691e-04 - val_loss: 3.4076e-04 - val_acc: 0.0000e+00\n",
      "Epoch 49/90\n",
      "4833/4833 [==============================] - 35s - loss: 4.5130e-07 - acc: 2.0691e-04 - val_loss: 2.7630e-04 - val_acc: 0.0000e+00\n",
      "Epoch 50/90\n",
      "4833/4833 [==============================] - 35s - loss: 3.6013e-07 - acc: 2.0691e-04 - val_loss: 2.8818e-04 - val_acc: 0.0000e+00\n",
      "Epoch 51/90\n",
      "4833/4833 [==============================] - 35s - loss: 3.4552e-07 - acc: 2.0691e-04 - val_loss: 2.7924e-04 - val_acc: 0.0000e+00\n",
      "Epoch 52/90\n",
      "4833/4833 [==============================] - 39s - loss: 3.5981e-07 - acc: 2.0691e-04 - val_loss: 2.3746e-04 - val_acc: 0.0000e+00\n",
      "Epoch 53/90\n",
      "4833/4833 [==============================] - 35s - loss: 4.3294e-07 - acc: 2.0691e-04 - val_loss: 2.7929e-04 - val_acc: 0.0000e+00\n",
      "Epoch 54/90\n",
      "4833/4833 [==============================] - 35s - loss: 3.4742e-07 - acc: 2.0691e-04 - val_loss: 2.8530e-04 - val_acc: 0.0000e+00\n",
      "Epoch 55/90\n",
      "4833/4833 [==============================] - 35s - loss: 3.3128e-07 - acc: 2.0691e-04 - val_loss: 3.0537e-04 - val_acc: 0.0000e+00\n",
      "Epoch 56/90\n",
      "4833/4833 [==============================] - 35s - loss: 3.4711e-07 - acc: 2.0691e-04 - val_loss: 2.3108e-04 - val_acc: 0.0000e+00\n",
      "Epoch 57/90\n",
      "4833/4833 [==============================] - 35s - loss: 3.2957e-07 - acc: 2.0691e-04 - val_loss: 2.4261e-04 - val_acc: 0.0000e+00\n",
      "Epoch 58/90\n"
     ]
    },
    {
     "name": "stdout",
     "output_type": "stream",
     "text": [
      "4833/4833 [==============================] - 35s - loss: 3.4161e-07 - acc: 2.0691e-04 - val_loss: 2.2549e-04 - val_acc: 0.0000e+00\n",
      "Epoch 59/90\n",
      "4833/4833 [==============================] - 35s - loss: 3.2322e-07 - acc: 2.0691e-04 - val_loss: 2.1233e-04 - val_acc: 0.0000e+00\n",
      "Epoch 60/90\n",
      "4833/4833 [==============================] - 39s - loss: 3.2407e-07 - acc: 2.0691e-04 - val_loss: 1.8858e-04 - val_acc: 0.0000e+00\n",
      "Epoch 61/90\n",
      "4833/4833 [==============================] - 39s - loss: 3.1981e-07 - acc: 2.0691e-04 - val_loss: 2.9947e-04 - val_acc: 0.0000e+00\n",
      "Epoch 62/90\n",
      "4833/4833 [==============================] - 38s - loss: 3.5781e-07 - acc: 2.0691e-04 - val_loss: 3.2347e-04 - val_acc: 0.0000e+00\n",
      "Epoch 63/90\n",
      "4833/4833 [==============================] - 36s - loss: 3.8653e-07 - acc: 2.0691e-04 - val_loss: 3.7861e-04 - val_acc: 0.0000e+00\n",
      "Epoch 64/90\n",
      "4833/4833 [==============================] - 36s - loss: 4.0401e-07 - acc: 2.0691e-04 - val_loss: 3.4895e-04 - val_acc: 0.0000e+00\n",
      "Epoch 65/90\n",
      "4833/4833 [==============================] - 35s - loss: 3.3565e-07 - acc: 2.0691e-04 - val_loss: 4.1811e-04 - val_acc: 0.0000e+00\n",
      "Epoch 66/90\n",
      "4833/4833 [==============================] - 36s - loss: 3.3279e-07 - acc: 2.0691e-04 - val_loss: 3.0779e-04 - val_acc: 0.0000e+00\n",
      "Epoch 67/90\n",
      "4833/4833 [==============================] - 36s - loss: 3.3796e-07 - acc: 2.0691e-04 - val_loss: 1.9043e-04 - val_acc: 0.0000e+00\n",
      "Epoch 68/90\n",
      "4833/4833 [==============================] - 36s - loss: 3.3537e-07 - acc: 2.0691e-04 - val_loss: 2.3607e-04 - val_acc: 0.0000e+00\n",
      "Epoch 69/90\n",
      "4833/4833 [==============================] - 34s - loss: 3.2651e-07 - acc: 2.0691e-04 - val_loss: 4.0544e-04 - val_acc: 0.0000e+00\n",
      "Epoch 70/90\n",
      "4833/4833 [==============================] - 35s - loss: 3.2245e-07 - acc: 2.0691e-04 - val_loss: 2.7913e-04 - val_acc: 0.0000e+00\n",
      "Epoch 71/90\n",
      "4833/4833 [==============================] - 34s - loss: 2.9066e-07 - acc: 2.0691e-04 - val_loss: 2.6610e-04 - val_acc: 0.0000e+00\n",
      "Epoch 72/90\n",
      "4833/4833 [==============================] - 34s - loss: 2.8714e-07 - acc: 2.0691e-04 - val_loss: 2.4554e-04 - val_acc: 0.0000e+00\n",
      "Epoch 73/90\n",
      "4833/4833 [==============================] - 34s - loss: 3.2356e-07 - acc: 2.0691e-04 - val_loss: 3.1408e-04 - val_acc: 0.0000e+00\n",
      "Epoch 74/90\n",
      "4833/4833 [==============================] - 34s - loss: 3.3661e-07 - acc: 2.0691e-04 - val_loss: 2.0812e-04 - val_acc: 0.0000e+00\n",
      "Epoch 75/90\n",
      "4833/4833 [==============================] - 34s - loss: 4.7392e-07 - acc: 2.0691e-04 - val_loss: 3.2517e-04 - val_acc: 0.0000e+00\n",
      "Epoch 76/90\n",
      "4833/4833 [==============================] - 35s - loss: 3.8835e-07 - acc: 2.0691e-04 - val_loss: 3.3172e-04 - val_acc: 0.0000e+00\n",
      "Epoch 77/90\n",
      "4833/4833 [==============================] - 34s - loss: 3.0693e-07 - acc: 2.0691e-04 - val_loss: 2.2187e-04 - val_acc: 0.0000e+00\n",
      "Epoch 78/90\n",
      "4833/4833 [==============================] - 34s - loss: 3.6277e-07 - acc: 2.0691e-04 - val_loss: 2.7366e-04 - val_acc: 0.0000e+00\n",
      "Epoch 79/90\n",
      "4833/4833 [==============================] - 38s - loss: 3.2013e-07 - acc: 2.0691e-04 - val_loss: 2.5803e-04 - val_acc: 0.0000e+00\n",
      "Epoch 80/90\n",
      "4833/4833 [==============================] - 34s - loss: 2.9169e-07 - acc: 2.0691e-04 - val_loss: 1.8118e-04 - val_acc: 0.0000e+00\n",
      "Epoch 81/90\n",
      "4833/4833 [==============================] - 34s - loss: 2.8668e-07 - acc: 2.0691e-04 - val_loss: 2.9398e-04 - val_acc: 0.0000e+00\n",
      "Epoch 82/90\n",
      "4833/4833 [==============================] - 38s - loss: 2.6456e-07 - acc: 2.0691e-04 - val_loss: 2.9723e-04 - val_acc: 0.0000e+00\n",
      "Epoch 83/90\n",
      "4833/4833 [==============================] - 34s - loss: 3.0719e-07 - acc: 2.0691e-04 - val_loss: 2.5020e-04 - val_acc: 0.0000e+00\n",
      "Epoch 84/90\n",
      "4833/4833 [==============================] - 34s - loss: 3.0633e-07 - acc: 2.0691e-04 - val_loss: 1.6223e-04 - val_acc: 0.0000e+00\n",
      "Epoch 85/90\n",
      "4833/4833 [==============================] - 34s - loss: 2.8863e-07 - acc: 2.0691e-04 - val_loss: 3.1080e-04 - val_acc: 0.0000e+00\n",
      "Epoch 86/90\n",
      "4833/4833 [==============================] - 34s - loss: 2.7593e-07 - acc: 2.0691e-04 - val_loss: 2.6517e-04 - val_acc: 0.0000e+00\n",
      "Epoch 87/90\n",
      "4833/4833 [==============================] - 34s - loss: 3.1292e-07 - acc: 2.0691e-04 - val_loss: 1.8630e-04 - val_acc: 0.0000e+00\n",
      "Epoch 88/90\n",
      "4833/4833 [==============================] - 34s - loss: 4.6511e-07 - acc: 2.0691e-04 - val_loss: 2.0344e-04 - val_acc: 0.0000e+00\n",
      "Epoch 89/90\n",
      "4833/4833 [==============================] - 34s - loss: 3.5573e-07 - acc: 2.0691e-04 - val_loss: 2.5284e-04 - val_acc: 0.0000e+00\n",
      "Epoch 90/90\n",
      "4833/4833 [==============================] - 36s - loss: 3.4827e-07 - acc: 2.0691e-04 - val_loss: 2.4423e-04 - val_acc: 0.0000e+00\n"
     ]
    },
    {
     "data": {
      "text/plain": [
       "<keras.callbacks.History at 0x4462be8d68>"
      ]
     },
     "execution_count": 28,
     "metadata": {},
     "output_type": "execute_result"
    }
   ],
   "source": [
    "model.fit(\n",
    "    X_train,\n",
    "    y_train,\n",
    "    batch_size=512,\n",
    "    epochs=epochs,\n",
    "    validation_split=0.33,\n",
    "    verbose=1)"
   ]
  },
  {
   "cell_type": "markdown",
   "metadata": {},
   "source": [
    "# Result"
   ]
  },
  {
   "cell_type": "code",
   "execution_count": 29,
   "metadata": {},
   "outputs": [
    {
     "name": "stdout",
     "output_type": "stream",
     "text": [
      "Train Score: 0.00008 MSE (0.01 RMSE)\n",
      "Test Score: 0.04678 MSE (0.22 RMSE)\n"
     ]
    },
    {
     "data": {
      "text/plain": [
       "(8.0843266326197558e-05, 0.046781160641552473)"
      ]
     },
     "execution_count": 29,
     "metadata": {},
     "output_type": "execute_result"
    }
   ],
   "source": [
    "def model_score(model, X_train, y_train, X_test, y_test):\n",
    "    trainScore = model.evaluate(X_train, y_train, verbose=0)\n",
    "    print('Train Score: %.5f MSE (%.2f RMSE)' % (trainScore[0], math.sqrt(trainScore[0])))\n",
    "\n",
    "    testScore = model.evaluate(X_test, y_test, verbose=0)\n",
    "    print('Test Score: %.5f MSE (%.2f RMSE)' % (testScore[0], math.sqrt(testScore[0])))\n",
    "    return trainScore[0], testScore[0]\n",
    "\n",
    "model_score(model, X_train, y_train, X_test, y_test)"
   ]
  },
  {
   "cell_type": "markdown",
   "metadata": {},
   "source": [
    "# Prediction vs Real Results"
   ]
  },
  {
   "cell_type": "code",
   "execution_count": 30,
   "metadata": {
    "collapsed": true
   },
   "outputs": [],
   "source": [
    "def percentage_difference(model, X_test, y_test):\n",
    "    percentage_diff=[]\n",
    "\n",
    "    p = model.predict(X_test)\n",
    "    for u in range(len(y_test)): # for each data index in test data\n",
    "        pr = p[u][0] # pr = prediction on day u\n",
    "\n",
    "        percentage_diff.append((pr-y_test[u]/pr)*100)\n",
    "    return p"
   ]
  },
  {
   "cell_type": "code",
   "execution_count": 31,
   "metadata": {
    "collapsed": true
   },
   "outputs": [],
   "source": [
    "p = percentage_difference(model, X_test, y_test)"
   ]
  },
  {
   "cell_type": "code",
   "execution_count": 32,
   "metadata": {
    "collapsed": true
   },
   "outputs": [],
   "source": [
    "def denormalize(stock_name, normalized_value):\n",
    "    \"\"\"\n",
    "    Return a dataframe of that stock and normalize all the values. \n",
    "    (Optional: create moving average)\n",
    "    \"\"\"\n",
    "    df = quandl.get_table('WIKI/PRICES', ticker = stock_name)\n",
    "    df.drop(['ticker', 'open', 'high', 'low', 'close', 'ex-dividend', 'volume', 'split_ratio'], 1, inplace=True)\n",
    "    df.set_index('date', inplace=True)\n",
    "    \n",
    "    # Renaming all the columns so that we can use the old version code\n",
    "    df.rename(columns={'adj_open': 'Open', 'adj_high': 'High', 'adj_low': 'Low', 'adj_volume': 'Volume', 'adj_close': 'Adj Close'}, inplace=True)\n",
    "    \n",
    "    df.dropna(inplace=True)\n",
    "    df = df['Adj Close'].values.reshape(-1,1)\n",
    "    normalized_value = normalized_value.reshape(-1,1)\n",
    "\n",
    "    #return df.shape, p.shape\n",
    "    min_max_scaler = preprocessing.MinMaxScaler()\n",
    "    a = min_max_scaler.fit_transform(df)\n",
    "    new = min_max_scaler.inverse_transform(normalized_value)\n",
    "      \n",
    "    return new"
   ]
  },
  {
   "cell_type": "code",
   "execution_count": 33,
   "metadata": {
    "collapsed": true
   },
   "outputs": [],
   "source": [
    "def plot_result(stock_name, normalized_value_p, normalized_value_y_test):\n",
    "    newp = denormalize(stock_name, normalized_value_p)\n",
    "    newy_test = denormalize(stock_name, normalized_value_y_test)\n",
    "    plt2.plot(newp, color='red', label='Prediction')\n",
    "    plt2.plot(newy_test,color='blue', label='Actual')\n",
    "    plt2.legend(loc='best')\n",
    "    plt2.title('The test result for {}'.format(stock_name))\n",
    "    plt2.xlabel('Days')\n",
    "    plt2.ylabel('Adjusted Close')\n",
    "    plt2.show()"
   ]
  },
  {
   "cell_type": "code",
   "execution_count": 34,
   "metadata": {},
   "outputs": [
    {
     "data": {
      "image/png": "[encoded data removed]",
      "text/plain": [
       "<matplotlib.figure.Figure at 0x4459b06b70>"
      ]
     },
     "metadata": {},
     "output_type": "display_data"
    }
   ],
   "source": [
    "plot_result(stock_name, p, y_test)"
   ]
  },
  {
   "cell_type": "code",
   "execution_count": null,
   "metadata": {
    "collapsed": true
   },
   "outputs": [],
   "source": []
  }
 ],
 "metadata": {
  "kernelspec": {
   "display_name": "Python 3",
   "language": "python",
   "name": "python3"
  },
  "language_info": {
   "codemirror_mode": {
    "name": "ipython",
    "version": 3
   },
   "file_extension": ".py",
   "mimetype": "text/x-python",
   "name": "python",
   "nbconvert_exporter": "python",
   "pygments_lexer": "ipython3",
   "version": "3.6.1"
  }
 },
 "nbformat": 4,
 "nbformat_minor": 2
}
